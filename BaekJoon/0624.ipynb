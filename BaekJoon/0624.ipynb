{
 "cells": [
  {
   "cell_type": "markdown",
   "metadata": {},
   "source": [
    "#### [지정문제] 감소하는 수_1038번"
   ]
  },
  {
   "cell_type": "markdown",
   "metadata": {},
   "source": [
    "###### 나의 풀이"
   ]
  },
  {
   "cell_type": "code",
   "execution_count": null,
   "metadata": {},
   "outputs": [],
   "source": [
    "from itertools import combinations\n",
    "\n",
    "def solution(n):\n",
    "    if n > 1022:\n",
    "        return -1\n",
    "    else:\n",
    "        nums = []\n",
    "        num_count = 1\n",
    "        while len(nums) <= n:\n",
    "            nums.extend(list(combinations(range(10), num_count)))\n",
    "            num_count += 1\n",
    "        result = sorted([int(\"\".join(list(map(str,sorted(num, reverse=True))))) for num in nums])\n",
    "        return result[n]\n",
    "\n",
    "n = int(input())\n",
    "print(solution(n))\n"
   ]
  },
  {
   "cell_type": "markdown",
   "metadata": {},
   "source": [
    "###### 다른 사람의 풀이 1 > combination 사용"
   ]
  },
  {
   "cell_type": "code",
   "execution_count": null,
   "metadata": {},
   "outputs": [],
   "source": [
    "from itertools import*\n",
    "try:print(sorted(map(int,[''.join(i)for j in range(10)for i in combinations('9876543210',j+1)]))\n",
    "[int(input())])\n",
    "except:print(-1)"
   ]
  },
  {
   "cell_type": "markdown",
   "metadata": {},
   "source": [
    "###### 다른 사람의 풀이 2 > 공식 사용"
   ]
  },
  {
   "cell_type": "code",
   "execution_count": null,
   "metadata": {},
   "outputs": [],
   "source": [
    "N = int(input())\n",
    "q = list(range(10))\n",
    "for k in q:\n",
    "    r = k % 10\n",
    "    y = k * 10\n",
    "    for x in range(r): q.append(x + y)\n",
    "if N < len(q):\n",
    "    print(q[N])\n",
    "else:\n",
    "    print(-1)"
   ]
  }
 ],
 "metadata": {
  "kernelspec": {
   "display_name": "Python 3.8.10 ('base')",
   "language": "python",
   "name": "python3"
  },
  "language_info": {
   "codemirror_mode": {
    "name": "ipython",
    "version": 3
   },
   "file_extension": ".py",
   "mimetype": "text/x-python",
   "name": "python",
   "nbconvert_exporter": "python",
   "pygments_lexer": "ipython3",
   "version": "3.8.10"
  },
  "orig_nbformat": 4,
  "vscode": {
   "interpreter": {
    "hash": "47534bebf586ae8dc2766a8e1413c5d592e465be6210043f984f1b61d267c58a"
   }
  }
 },
 "nbformat": 4,
 "nbformat_minor": 2
}
