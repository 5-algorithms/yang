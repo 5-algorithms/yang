{
 "cells": [
  {
   "cell_type": "markdown",
   "metadata": {},
   "source": [
    "#### [지정문제] 공유기 설치_2110번"
   ]
  },
  {
   "cell_type": "markdown",
   "metadata": {},
   "source": [
    "###### 나의 풀이"
   ]
  },
  {
   "cell_type": "code",
   "execution_count": null,
   "metadata": {},
   "outputs": [],
   "source": [
    "n,c = map(int,input().split())\n",
    "h = [int(input()) for i in range(n)]\n",
    "h.sort()\n",
    "start,end = 1, h[n-1] - h[0]\n",
    "# 집 사이의 최소 거리, 최대 거리\n",
    "result = 0\n",
    "\n",
    "if c == 2:\n",
    "    print(h[n-1] - h[0])\n",
    "    # 집이 2개라면 무조건 처음, 마지막 집 사이의 거리\n",
    "else:\n",
    "    while(start < end):\n",
    "        mid = (start + end)//2\n",
    "\n",
    "        count = 1\n",
    "        ts = h[0]\n",
    "        # 마지막으로 설치된 공유기의 위치\n",
    "        for i in range(n):\n",
    "            if h[i] - ts >= mid:\n",
    "                count+=1\n",
    "                ts = h[i]\n",
    "        if count >= c:\n",
    "            result = mid\n",
    "            start = mid + 1\n",
    "        elif count < c:\n",
    "            end = mid\n",
    "    print(result)"
   ]
  }
 ],
 "metadata": {
  "kernelspec": {
   "display_name": "Python 3.8.10 ('base')",
   "language": "python",
   "name": "python3"
  },
  "language_info": {
   "codemirror_mode": {
    "name": "ipython",
    "version": 3
   },
   "file_extension": ".py",
   "mimetype": "text/x-python",
   "name": "python",
   "nbconvert_exporter": "python",
   "pygments_lexer": "ipython3",
   "version": "3.8.10"
  },
  "orig_nbformat": 4,
  "vscode": {
   "interpreter": {
    "hash": "47534bebf586ae8dc2766a8e1413c5d592e465be6210043f984f1b61d267c58a"
   }
  }
 },
 "nbformat": 4,
 "nbformat_minor": 2
}
