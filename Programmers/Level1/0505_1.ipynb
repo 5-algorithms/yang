{
 "cells": [
  {
   "cell_type": "markdown",
   "metadata": {},
   "source": [
    "#### 월간 코드 챌린지 시즌2 > 음양 더하기\n"
   ]
  },
  {
   "cell_type": "markdown",
   "metadata": {},
   "source": [
    "###### 나의 풀이"
   ]
  },
  {
   "cell_type": "code",
   "execution_count": 7,
   "metadata": {},
   "outputs": [],
   "source": [
    "def solution(absolutes, signs):\n",
    "    signs = [1 if value == True else -1 for i, value in enumerate(signs)]\n",
    "    answer = 0\n",
    "    for i in range(len(absolutes)):\n",
    "        answer += absolutes[i] * signs[i]\n",
    "    return answer"
   ]
  },
  {
   "cell_type": "markdown",
   "metadata": {},
   "source": [
    "###### 다른 사람의 풀이"
   ]
  },
  {
   "cell_type": "code",
   "execution_count": 8,
   "metadata": {},
   "outputs": [],
   "source": [
    "def solution(absolutes, signs):\n",
    "    return sum(absolutes if sign else -absolutes for absolutes, sign in zip(absolutes, signs))"
   ]
  }
 ],
 "metadata": {
  "interpreter": {
   "hash": "6b9cdb9f7efa3d808ddab58c84aaf5f9ca4d1dd2408530c4a39cf102afbc450d"
  },
  "kernelspec": {
   "display_name": "Python 3.8.10 ('base')",
   "language": "python",
   "name": "python3"
  },
  "language_info": {
   "codemirror_mode": {
    "name": "ipython",
    "version": 3
   },
   "file_extension": ".py",
   "mimetype": "text/x-python",
   "name": "python",
   "nbconvert_exporter": "python",
   "pygments_lexer": "ipython3",
   "version": "3.8.10"
  },
  "orig_nbformat": 4
 },
 "nbformat": 4,
 "nbformat_minor": 2
}
