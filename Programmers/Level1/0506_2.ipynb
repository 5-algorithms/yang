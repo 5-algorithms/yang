{
 "cells": [
  {
   "cell_type": "markdown",
   "metadata": {},
   "source": [
    "#### 찾아라 프로그래밍 마에스터 > 폰켓몬"
   ]
  },
  {
   "cell_type": "markdown",
   "metadata": {},
   "source": [
    "###### 나의 풀이"
   ]
  },
  {
   "cell_type": "code",
   "execution_count": 2,
   "metadata": {},
   "outputs": [],
   "source": [
    "def solution(nums):\n",
    "    kind_num = len(set(nums))\n",
    "    get_num = len(nums)/2\n",
    "\n",
    "    return (get_num if kind_num >= get_num else kind_num)"
   ]
  },
  {
   "cell_type": "markdown",
   "metadata": {},
   "source": [
    "###### 다른 사람의 풀이"
   ]
  },
  {
   "cell_type": "code",
   "execution_count": 3,
   "metadata": {},
   "outputs": [],
   "source": [
    "def solution(nums):\n",
    "    return min(len(nums)/2, len(set(nums)))"
   ]
  }
 ],
 "metadata": {
  "interpreter": {
   "hash": "6b9cdb9f7efa3d808ddab58c84aaf5f9ca4d1dd2408530c4a39cf102afbc450d"
  },
  "kernelspec": {
   "display_name": "Python 3.8.10 ('base')",
   "language": "python",
   "name": "python3"
  },
  "language_info": {
   "codemirror_mode": {
    "name": "ipython",
    "version": 3
   },
   "file_extension": ".py",
   "mimetype": "text/x-python",
   "name": "python",
   "nbconvert_exporter": "python",
   "pygments_lexer": "ipython3",
   "version": "3.8.10"
  },
  "orig_nbformat": 4
 },
 "nbformat": 4,
 "nbformat_minor": 2
}
