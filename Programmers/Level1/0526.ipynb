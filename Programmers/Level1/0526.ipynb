{
 "cells": [
  {
   "cell_type": "markdown",
   "metadata": {},
   "source": [
    "#### 2020 카카오 인턴십 > 키패드 누르기"
   ]
  },
  {
   "cell_type": "markdown",
   "metadata": {},
   "source": [
    "###### 나의 풀이"
   ]
  },
  {
   "cell_type": "code",
   "execution_count": 9,
   "metadata": {},
   "outputs": [],
   "source": [
    "import numpy as np\n",
    "\n",
    "def solution(numbers, hand):\n",
    "    answer = ''\n",
    "    hand = \"L\" if hand==\"left\" else \"R\"\n",
    "    key = [[1,4,7], [2,5,8,0], [3,6,9]]\n",
    "    location = {\"L\":[3,0], \"R\":[3,2]}\n",
    "    \n",
    "    for num in numbers:\n",
    "        if num in key[0]:\n",
    "            location[\"L\"] = [key[0].index(num), 0]\n",
    "            answer += \"L\"\n",
    "        elif num in key[1]:\n",
    "            num_location = [key[1].index(num), 1]\n",
    "            L_dist = sum(list(map(abs, np.array(num_location)-np.array(location[\"L\"]))))\n",
    "            R_dist = sum(list(map(abs, np.array(num_location)-np.array(location[\"R\"]))))\n",
    "            if L_dist < R_dist:\n",
    "                location[\"L\"] = [key[1].index(num), 1]\n",
    "                answer += \"L\"\n",
    "            elif R_dist < L_dist:\n",
    "                location[\"R\"] = [key[1].index(num), 1]\n",
    "                answer += \"R\"\n",
    "            else:\n",
    "                location[hand] = [key[1].index(num), 1]\n",
    "                answer += hand\n",
    "        elif num in key[2]:\n",
    "            location[\"R\"] = [key[2].index(num), 2]\n",
    "            answer += \"R\"\n",
    "        \n",
    "    return answer"
   ]
  },
  {
   "cell_type": "markdown",
   "metadata": {},
   "source": [
    "###### 다른 사람의 풀이"
   ]
  },
  {
   "cell_type": "code",
   "execution_count": 8,
   "metadata": {},
   "outputs": [],
   "source": [
    "def solution(numbers, hand):\n",
    "    answer = ''\n",
    "    key_dict = {1:(0,0),2:(0,1),3:(0,2),\n",
    "                4:(1,0),5:(1,1),6:(1,2),\n",
    "                7:(2,0),8:(2,1),9:(2,2),\n",
    "                '*':(3,0),0:(3,1),'#':(3,2)}\n",
    "\n",
    "    left = [1,4,7]\n",
    "    right = [3,6,9]\n",
    "    lhand = '*'\n",
    "    rhand = '#'\n",
    "    for i in numbers:\n",
    "        if i in left:\n",
    "            answer += 'L'\n",
    "            lhand = i\n",
    "        elif i in right:\n",
    "            answer += 'R'\n",
    "            rhand = i\n",
    "        else:\n",
    "            curPos = key_dict[i]\n",
    "            lPos = key_dict[lhand]\n",
    "            rPos = key_dict[rhand]\n",
    "            ldist = abs(curPos[0]-lPos[0]) + abs(curPos[1]-lPos[1])\n",
    "            rdist = abs(curPos[0]-rPos[0]) + abs(curPos[1]-rPos[1])\n",
    "\n",
    "            if ldist < rdist:\n",
    "                answer += 'L'\n",
    "                lhand = i\n",
    "            elif ldist > rdist:\n",
    "                answer += 'R'\n",
    "                rhand = i\n",
    "            else:\n",
    "                if hand == 'left':\n",
    "                    answer += 'L'\n",
    "                    lhand = i\n",
    "                else:\n",
    "                    answer += 'R'\n",
    "                    rhand = i\n",
    "\n",
    "    return answer"
   ]
  }
 ],
 "metadata": {
  "interpreter": {
   "hash": "47534bebf586ae8dc2766a8e1413c5d592e465be6210043f984f1b61d267c58a"
  },
  "kernelspec": {
   "display_name": "Python 3.8.10 ('base')",
   "language": "python",
   "name": "python3"
  },
  "language_info": {
   "codemirror_mode": {
    "name": "ipython",
    "version": 3
   },
   "file_extension": ".py",
   "mimetype": "text/x-python",
   "name": "python",
   "nbconvert_exporter": "python",
   "pygments_lexer": "ipython3",
   "version": "3.8.10"
  },
  "orig_nbformat": 4
 },
 "nbformat": 4,
 "nbformat_minor": 2
}
