{
 "cells": [
  {
   "cell_type": "markdown",
   "metadata": {},
   "source": [
    "#### 연습문제 > 이상한 문자 만들기\n"
   ]
  },
  {
   "cell_type": "markdown",
   "metadata": {},
   "source": [
    "###### 나의 풀이"
   ]
  },
  {
   "cell_type": "code",
   "execution_count": 1,
   "metadata": {},
   "outputs": [],
   "source": [
    "def solution(s):\n",
    "    result = []\n",
    "    words = s.split(\" \")\n",
    "    for word in words:\n",
    "        re_word = \"\".join([x.upper() if i%2 == 0 else x.lower() for i, x in enumerate(word)])\n",
    "        result.append(re_word)\n",
    "    return \" \".join(result)"
   ]
  },
  {
   "cell_type": "markdown",
   "metadata": {},
   "source": [
    "###### 다른 사람의 풀이"
   ]
  },
  {
   "cell_type": "code",
   "execution_count": 2,
   "metadata": {},
   "outputs": [],
   "source": [
    "def solution(s):\n",
    "    return \" \".join(map(lambda x: \"\".join([a.lower() if i % 2 else a.upper() for i, a in enumerate(x)]), s.split(\" \")))"
   ]
  }
 ],
 "metadata": {
  "interpreter": {
   "hash": "47534bebf586ae8dc2766a8e1413c5d592e465be6210043f984f1b61d267c58a"
  },
  "kernelspec": {
   "display_name": "Python 3.8.10 ('base')",
   "language": "python",
   "name": "python3"
  },
  "language_info": {
   "codemirror_mode": {
    "name": "ipython",
    "version": 3
   },
   "file_extension": ".py",
   "mimetype": "text/x-python",
   "name": "python",
   "nbconvert_exporter": "python",
   "pygments_lexer": "ipython3",
   "version": "3.8.10"
  },
  "orig_nbformat": 4
 },
 "nbformat": 4,
 "nbformat_minor": 2
}
