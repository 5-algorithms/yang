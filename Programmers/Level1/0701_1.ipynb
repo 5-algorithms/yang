{
 "cells": [
  {
   "cell_type": "markdown",
   "metadata": {},
   "source": [
    "#### 연습문제 > 2016년"
   ]
  },
  {
   "cell_type": "markdown",
   "metadata": {},
   "source": [
    "###### 냐의 풀이"
   ]
  },
  {
   "cell_type": "code",
   "execution_count": 1,
   "metadata": {},
   "outputs": [],
   "source": [
    "def solution(a, b):\n",
    "    week = [\"FRI\",\"SAT\",\"SUN\",\"MON\",\"TUE\",\"WED\",\"THU\"]\n",
    "    days = [0, 31, 29, 31, 30, 31, 30, 31, 31, 30, 31, 30]\n",
    "    \n",
    "    count_day = sum(days[:a]) + b - 1\n",
    "    return week[count_day % 7]"
   ]
  }
 ],
 "metadata": {
  "kernelspec": {
   "display_name": "Python 3.8.10 ('base')",
   "language": "python",
   "name": "python3"
  },
  "language_info": {
   "codemirror_mode": {
    "name": "ipython",
    "version": 3
   },
   "file_extension": ".py",
   "mimetype": "text/x-python",
   "name": "python",
   "nbconvert_exporter": "python",
   "pygments_lexer": "ipython3",
   "version": "3.8.10"
  },
  "orig_nbformat": 4,
  "vscode": {
   "interpreter": {
    "hash": "47534bebf586ae8dc2766a8e1413c5d592e465be6210043f984f1b61d267c58a"
   }
  }
 },
 "nbformat": 4,
 "nbformat_minor": 2
}
