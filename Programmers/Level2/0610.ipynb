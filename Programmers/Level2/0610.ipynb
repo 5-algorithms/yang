{
 "cells": [
  {
   "cell_type": "markdown",
   "metadata": {},
   "source": [
    "#### 연습문제 > 숫자의 표현"
   ]
  },
  {
   "cell_type": "markdown",
   "metadata": {},
   "source": [
    "###### 나의 풀이"
   ]
  },
  {
   "cell_type": "code",
   "execution_count": 1,
   "metadata": {},
   "outputs": [],
   "source": [
    "def solution(n):\n",
    "    divisor = 2\n",
    "    count = 1\n",
    "    \n",
    "    while True:\n",
    "        num_div = n - sum(range(1,divisor))\n",
    "        if num_div <= 0:\n",
    "            break\n",
    "        if num_div % divisor == 0:\n",
    "            count += 1\n",
    "        if num_div // divisor == 1:\n",
    "            break\n",
    "        divisor += 1  \n",
    "    \n",
    "    return count"
   ]
  },
  {
   "cell_type": "markdown",
   "metadata": {},
   "source": [
    "###### 다른 사람의 풀이\n",
    "###### 해설 (https://gkalstn000.github.io/2021/01/21/%EC%88%AB%EC%9E%90%EC%9D%98-%ED%91%9C%ED%98%84/) 뭔 개솔"
   ]
  },
  {
   "cell_type": "code",
   "execution_count": 2,
   "metadata": {},
   "outputs": [
    {
     "name": "stderr",
     "output_type": "stream",
     "text": [
      "<>:2: SyntaxWarning: \"is\" with a literal. Did you mean \"==\"?\n",
      "<>:2: SyntaxWarning: \"is\" with a literal. Did you mean \"==\"?\n",
      "C:\\Users\\maroy\\AppData\\Local\\Temp/ipykernel_17944/857631791.py:2: SyntaxWarning: \"is\" with a literal. Did you mean \"==\"?\n",
      "  return len([i  for i in range(1,n+1,2) if n % i is 0])\n"
     ]
    }
   ],
   "source": [
    "def solution(n):\n",
    "    return len([i for i in range(1,n+1,2) if n % i is 0])"
   ]
  }
 ],
 "metadata": {
  "interpreter": {
   "hash": "47534bebf586ae8dc2766a8e1413c5d592e465be6210043f984f1b61d267c58a"
  },
  "kernelspec": {
   "display_name": "Python 3.8.10 ('base')",
   "language": "python",
   "name": "python3"
  },
  "language_info": {
   "codemirror_mode": {
    "name": "ipython",
    "version": 3
   },
   "file_extension": ".py",
   "mimetype": "text/x-python",
   "name": "python",
   "nbconvert_exporter": "python",
   "pygments_lexer": "ipython3",
   "version": "3.8.10"
  },
  "orig_nbformat": 4
 },
 "nbformat": 4,
 "nbformat_minor": 2
}
