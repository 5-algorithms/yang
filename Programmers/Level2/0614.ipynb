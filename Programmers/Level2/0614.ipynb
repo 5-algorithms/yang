{
 "cells": [
  {
   "cell_type": "markdown",
   "metadata": {},
   "source": [
    "#### Summer/Winter Coding(2019) > 멀쩡한 사각형"
   ]
  },
  {
   "cell_type": "markdown",
   "metadata": {},
   "source": [
    "###### 나의 풀이"
   ]
  },
  {
   "cell_type": "code",
   "execution_count": null,
   "metadata": {},
   "outputs": [],
   "source": [
    "def solution(w,h):\n",
    "    if w == h:\n",
    "        return w * h - w\n",
    "    if w == 1 or h == 1:\n",
    "        return 0\n",
    "    count = sum(map(lambda width: int((-h/w) * width + h), range(1,w)))\n",
    "    return count*2"
   ]
  },
  {
   "cell_type": "markdown",
   "metadata": {},
   "source": [
    "###### 다른 사람의 풀이 > 최대공약수 사용\n",
    "###### w와 h의 최대공약수마다 대각선이 교점을 지남 (행,열을 자르지 않음) => 교점까지의 큰 사각형에서 잘리는 사각형 개수 구함"
   ]
  },
  {
   "cell_type": "code",
   "execution_count": null,
   "metadata": {},
   "outputs": [],
   "source": [
    "def gcd(a,b): return b if (a==0) else gcd(b%a,a)    \n",
    "def solution(w,h): return w*h-w-h+gcd(w,h)"
   ]
  }
 ],
 "metadata": {
  "language_info": {
   "name": "python"
  },
  "orig_nbformat": 4
 },
 "nbformat": 4,
 "nbformat_minor": 2
}
