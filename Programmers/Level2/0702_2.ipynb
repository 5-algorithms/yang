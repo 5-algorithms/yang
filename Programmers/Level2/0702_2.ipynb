{
 "cells": [
  {
   "cell_type": "markdown",
   "metadata": {},
   "source": [
    "#### 스택/큐 > 프린터"
   ]
  },
  {
   "cell_type": "markdown",
   "metadata": {},
   "source": [
    "###### 나의 풀이 > 0을 pop하는 경우 queue보다는 dequeue가 시간 복잡도 측면에서 효율적임"
   ]
  },
  {
   "cell_type": "code",
   "execution_count": 1,
   "metadata": {},
   "outputs": [],
   "source": [
    "def solution(priorities, location):\n",
    "    count = 0\n",
    "    while priorities:\n",
    "        if priorities[0] == max(priorities):\n",
    "            count += 1\n",
    "            if location == 0:\n",
    "                return count\n",
    "            priorities.pop(0)\n",
    "        else:\n",
    "            priorities.append(priorities.pop(0))\n",
    "        location = len(priorities)-1 if location == 0 else location-1"
   ]
  },
  {
   "cell_type": "markdown",
   "metadata": {},
   "source": [
    "###### 다른 사람의 풀이"
   ]
  },
  {
   "cell_type": "code",
   "execution_count": 2,
   "metadata": {},
   "outputs": [],
   "source": [
    "def solution(priorities, location):\n",
    "    jobs = len(priorities)\n",
    "    answer = 0\n",
    "    cursor = 0\n",
    "    while True:\n",
    "        if max(priorities) == priorities[cursor%jobs]:\n",
    "            priorities[cursor%jobs] = 0\n",
    "            answer += 1\n",
    "            if cursor%jobs == location:\n",
    "                break\n",
    "        cursor += 1\n",
    "    return answer"
   ]
  }
 ],
 "metadata": {
  "kernelspec": {
   "display_name": "Python 3.8.10 ('base')",
   "language": "python",
   "name": "python3"
  },
  "language_info": {
   "codemirror_mode": {
    "name": "ipython",
    "version": 3
   },
   "file_extension": ".py",
   "mimetype": "text/x-python",
   "name": "python",
   "nbconvert_exporter": "python",
   "pygments_lexer": "ipython3",
   "version": "3.8.10"
  },
  "orig_nbformat": 4,
  "vscode": {
   "interpreter": {
    "hash": "47534bebf586ae8dc2766a8e1413c5d592e465be6210043f984f1b61d267c58a"
   }
  }
 },
 "nbformat": 4,
 "nbformat_minor": 2
}
